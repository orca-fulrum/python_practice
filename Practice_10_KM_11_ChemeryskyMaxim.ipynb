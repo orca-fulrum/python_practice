{
  "cells": [
    {
      "cell_type": "markdown",
      "source": [
        "# **Курс \"Програмування на мові Python\"**"
      ],
      "metadata": {
        "id": "FMqboNwO4rVs"
      }
    },
    {
      "cell_type": "markdown",
      "source": [
        "## **Практичне зайняття №10**\n",
        "\n",
        "### Тема: \"Лямбда-функції. Функції вищих порядків\""
      ],
      "metadata": {
        "id": "A2T6MigL5Z06"
      }
    },
    {
      "cell_type": "markdown",
      "source": [
        "### **Завдання 1 (1 бал)**\r\n",
        "\r\n",
        "Продавець роздрібного товару влаштовує розпродаж. Для всіх товарів знижка однакова - 60%. Щоб вивісити нові цінники, продавець хоче скласти таблицю, в якій для кожного товару буде підрахована його нова вартість та сума знижки.\r\n",
        "\r\n",
        "Написати програму, яка буде генерувати таку таблицю. Вартість одиниць товарів до розпродажу подано у списку products_list. \r\n",
        "\r\n",
        "1. Для підрахунку невідомих значень повинні використовуватись вбудовані функції вищих порядків.\r\n",
        "\r\n",
        "2. Вартість з урахуванням знижки та суми знижок для кожного товару повинні зберігатись у двох окремих списках. Порядок товарів у нових списках повинен бути такий самий, як і в списку products_list.\r\n",
        "\r\n",
        "3. Кожне підраховане числове значення має бути округлене до сотих.\r\n",
        "\r\n",
        "4. Дані повинні виводитись у вигляді:\r\n",
        "\r\n",
        "**Discount table:**\r\n",
        "\r\n",
        "**29.25 11.7 17.55**\r\n",
        "\r\n",
        "**48.99 19.6 29.39**\r\n",
        "\r\n",
        "**...**\r\n",
        "\r\n",
        "\r\n",
        "products_list = [29.25, 48.99, 99.98, 124.65, 214.30, 543.90, 799.85]\r\n"
      ],
      "metadata": {
        "id": "cfCdgK2zXm7e"
      }
    },
    {
      "cell_type": "code",
      "execution_count": null,
      "source": [
        "products_list = [29.25, 48.99, 99.98, 124.65, 214.30, 543.90, 799.85]\r\n",
        "price_list = list(map(lambda i: round(i*0.4, 2), products_list ))\r\n",
        "disc_list = list(map(lambda i: round(i*0.6, 2), products_list ))\r\n",
        "print(price_list)\r\n",
        "print(disc_list)\r\n",
        "for a in range(5):\r\n",
        "    print(f\"{products_list[a]} {price_list[a]} {disc_list[a]}\")"
      ],
      "outputs": [],
      "metadata": {
        "id": "ifNX2M7LXm7f"
      }
    },
    {
      "cell_type": "markdown",
      "source": [
        "### **Завдання 2 (2 бали)**\n",
        "\n",
        "Зазвичай рік має 365 днів. Однак у високосні роки додається ще один день - 29 лютого. Правила визначення високосного року такі:\n",
        "\n",
        "- Будь-який рік, що ділиться на 400 - високосний.\n",
        "\n",
        "- З тих років, що залишились, будь-який рік, що ділиться на 100 - **не** високосний.\n",
        "\n",
        "- З тих років, що залишились, будь-який рік, що ділиться на 4 - високосний.\n",
        "\n",
        "- Усі інші роки, що залишились - **не** високосні.\n",
        "\n",
        "1) Створіть функцію, в якій за допомогою вбудованих функцій вищих порядків будуть визначатися високосні роки серед перелічених років у списку years. Створена функція має повертати список високосних років.\n",
        "\n",
        "2) Створіть функцію вищих порядків, яка прийматиме на вхід попередню функцію та визначатиме кількість днів у місяці. Також функція повинна приймати на вхід ще 2 параметри: ціле число від 1 до 12 (місяць) та рік, як ціле чотирицифрове число. Ці значення корисувач має вводити з клавіатури. Перевірку введених даних слід виконувати поза межами функцій."
      ],
      "metadata": {}
    },
    {
      "cell_type": "code",
      "execution_count": null,
      "source": [
        "import numpy as np\r\n",
        "\r\n",
        "years = np.arange(1900, 2020+1, 1)\r\n",
        "\r\n",
        "def try_month(month):\r\n",
        "    month_val = int(input(month))\r\n",
        "    while month_val < 1 or month_val > 12:\r\n",
        "        print(\"Помилка. Лише цілі числа від 1 до 12 включно\")\r\n",
        "        month_val = int(input(month))\r\n",
        "    return month_val\r\n",
        "\r\n",
        "def try_year(year):\r\n",
        "    year_val = int(input(year))\r\n",
        "    while year_val < 1900 or year_val > 2021:\r\n",
        "        print(\"Помилка. Лише роки з 1900 до 2021\")\r\n",
        "        year_val = int(input(year))\r\n",
        "    return year_val\r\n",
        "\r\n",
        "\r\n",
        "def years_v(a):\r\n",
        "    a = list(filter(lambda i: i % 4 == 0 or (i % 400 == 0), a))\r\n",
        "    for n in a:\r\n",
        "        if n % 100 == 0 and n % 400 != 0:\r\n",
        "            a.remove(n)\r\n",
        "        else: continue\r\n",
        "    return a\r\n",
        "\r\n",
        "years = years_v(years)\r\n",
        "print(years)\r\n",
        "\r\n",
        "year_num = try_year(\"Введіть рік: \")\r\n",
        "month_num = try_month(\"Введіть номер місяця: \")\r\n",
        "\r\n",
        "def day(func, x, y):\r\n",
        "    if x in set(func):\r\n",
        "        if y == 2:\r\n",
        "            daynum = 29\r\n",
        "        elif y == 1 or y == 3 or y == 5 or y == 7 or y == 8 or y == 10 or y == 12:\r\n",
        "            daynum = 31\r\n",
        "        else: daynum = 30\r\n",
        "    else:\r\n",
        "        if y == 2:\r\n",
        "            daynum = 28\r\n",
        "        elif y == 1 or y == 3 or y == 5 or y == 7 or y == 8 or y == 10 or y == 12:\r\n",
        "            daynum = 31\r\n",
        "        daynum = 30\r\n",
        "    return daynum\r\n",
        "\r\n",
        "print(day(years_v(years), year_num, month_num))"
      ],
      "outputs": [],
      "metadata": {}
    }
  ],
  "metadata": {
    "colab": {
      "collapsed_sections": [],
      "name": "Practice_7_KM-01_.ipynb",
      "provenance": []
    },
    "kernelspec": {
      "display_name": "Python 3",
      "name": "python3"
    }
  },
  "nbformat": 4,
  "nbformat_minor": 2
}