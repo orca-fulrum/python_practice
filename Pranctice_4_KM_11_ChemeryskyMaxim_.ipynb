{
  "nbformat": 4,
  "nbformat_minor": 2,
  "metadata": {
    "colab": {
      "name": "Pranctice_3_KM-01_<name>.ipynb",
      "provenance": [],
      "collapsed_sections": []
    },
    "kernelspec": {
      "name": "python3",
      "display_name": "Python 3.9.1 64-bit (system)"
    },
    "language_info": {
      "name": "python",
      "version": "3.9.1"
    },
    "interpreter": {
      "hash": "e562751aa04159bcd3187d0bfb3bc31715c68a6d179aabc4b422857b57a286f2"
    }
  },
  "cells": [
    {
      "cell_type": "markdown",
      "source": [
        "# **Курс \"Програмування на мові Python\"**"
      ],
      "metadata": {
        "id": "1bRxWHr5e8kt"
      }
    },
    {
      "cell_type": "markdown",
      "source": [
        "## **Практичне зайняття №3**\n",
        "### Тема: \"Перші програми на Python. Введення та виведення даних. Інструкція if\""
      ],
      "metadata": {
        "id": "buZUwUgFe-kx"
      }
    },
    {
      "cell_type": "markdown",
      "source": [
        "### **Завдання 1 (1,5 бали)**\n",
        "\n"
      ],
      "metadata": {
        "id": "PUkxEn8EfAUe"
      }
    },
    {
      "cell_type": "markdown",
      "source": [
        "**Написати програму введення та виведення даних про одержувача листа (посилки) за стандартами Укрпошти.**\n",
        "\n",
        "1. Усі запити на введення даних повинні супроводжуватись відповідними підказками-поясненнями (бажано англійською мовою).\n",
        "\n",
        "2. Дані мають виводитись так, як показано нижче (з урахуванням кількості рядків та послідовності даних у кожному з них).\n",
        "\n",
        "3. Дані, виділені жирним шрифтом, повинні вводитись із клавіатури. Всього має бути 9 окремих команд введення даних\n",
        "\n",
        "4. Назви змінних повинні бути інформативними та оформленими відповідно до правил іменування змінних\n",
        "\n",
        "5. Додати 2 коментарі, що вказують на блоки введення та виведення даних.\n",
        "\n",
        "***Формат виведення даних:***\n",
        "\n",
        "(1) **Ім'я** (2) **Прізвище**\n",
        "\n",
        "(3) **Номер телефону**\n",
        "\n",
        "Str. (4) **Назва вулиці** (5) **Номер будинку**, ap. (6) **Номер квартири**, (7) **Місто**\n",
        "\n",
        "(8) **Індекс**\n",
        "\n",
        "(9) **Країна**\n",
        "\n",
        "***Приклад виведення:***\n",
        "\n",
        "*Lucas Diallo*\n",
        "\n",
        "*3221234567*\n",
        "\n",
        "*Str. Longue 3, ap. 5, Bruxelles*\n",
        "\n",
        "*1020*\n",
        "\n",
        "*Belgium*"
      ],
      "metadata": {
        "id": "M7jjwxAvfKa2"
      }
    },
    {
      "cell_type": "code",
      "execution_count": null,
      "source": [
        "#Блок введення\r\n",
        "name = input(\"Enter your name: \")\r\n",
        "surname = input(\"Enter your surname: \")\r\n",
        "phone = input(\"Enter your phone number: \")\r\n",
        "street = input(\"Enter the name of ur street: \")\r\n",
        "house = input(\"Enter the number of ur house: \")\r\n",
        "apart = input(\"Enter the number of ur apartament: \")\r\n",
        "city = input(\"Enter the name of city u live in: \")\r\n",
        "post_index = input(\"Enter ur post index: \")\r\n",
        "country = input(\"Enter the name of ur country: \")\r\n",
        "\r\n",
        "#Блок виведення\r\n",
        "print(f\"{name} {surname}\") \r\n",
        "print(phone)\r\n",
        "print(f\"Str. {street} {house}, ap. {apart}, {city}\")\r\n",
        "print(post_index)\r\n",
        "print(country)\r\n"
      ],
      "outputs": [],
      "metadata": {}
    },
    {
      "cell_type": "markdown",
      "source": [
        "### **Завдання 2 (1,5 бали)**"
      ],
      "metadata": {
        "id": "WmnpKrmPf689"
      }
    },
    {
      "cell_type": "markdown",
      "source": [
        "Таблиця містить магнітуду землетрусів за шкалою Ріхтера та дескриптори, що їй відповідають.\n",
        "\n",
        "Магнітуда | Дескриптор\n",
        "--- | ---\n",
        "Менше, ніж 2 | Micro\n",
        "Від 2 до менше ніж 3 | Very minor\n",
        "Від 3 до менше ніж 4 | Minor\n",
        "Від 4 до менше ніж 5 | Light\n",
        "Від 5 до менше ніж 6 | Moderate\n",
        "Від 6 до менше ніж 7 | Strong\n",
        "Від 7 до менше ніж 8 | Major\n",
        "Від 8 до менше ніж 10 | Great\n",
        "10 та більше | Meteoric\n",
        "\n",
        "Напишіть програму, яка буде зчитувати магнітуду, введену користувачем, та виводити відповідний дескриптор як частину змістовного повідомлення. Наприклад, якщо користувач вводить 5.5, ваша програма повинна показати, що землетрус з такою магнітудою є помірним (moderate)."
      ],
      "metadata": {
        "id": "4n4p_pz7gFKM"
      }
    },
    {
      "cell_type": "code",
      "execution_count": null,
      "source": [
        "magnitude = float(input(\"enter the magnitude: \"))\r\n",
        "if magnitude >= 0 and magnitude < 2:\r\n",
        "    print(\"mirco earthquake\")\r\n",
        "elif magnitude >= 2 and magnitude < 3:\r\n",
        "    print(\"very minor earthquake\")\r\n",
        "elif magnitude >= 3 and magnitude < 4:\r\n",
        "    print(\"minor earthquake\")\r\n",
        "elif magnitude >= 4 and magnitude < 5:\r\n",
        "    print(\"light earthquake\")\r\n",
        "elif magnitude >= 5 and magnitude < 6:\r\n",
        "    print(\"moderate earthquake\")\r\n",
        "elif magnitude >= 6 and magnitude < 7:\r\n",
        "    print(\"strong earthquake\")\r\n",
        "elif magnitude >= 7 and magnitude < 8:\r\n",
        "    print(\"major earthquake\")\r\n",
        "elif magnitude >= 8 and magnitude < 10:\r\n",
        "    print(\"great earthquake\")\r\n",
        "elif magnitude >= 10:\r\n",
        "    print(\"meteoric earthquake\")\r\n",
        "else:\r\n",
        "    print(\"there is no earthquake\")"
      ],
      "outputs": [],
      "metadata": {
        "id": "Nv66Jkkpf-sI"
      }
    },
    {
      "cell_type": "markdown",
      "source": [
        "### **Завдання 3 (бонусне, 1 бал)**"
      ],
      "metadata": {
        "id": "X8fC_GM_nMRi"
      }
    },
    {
      "cell_type": "markdown",
      "source": [
        "Часто говорять, що один календарний рік еквівалентний 7 рокам для собаки. Однак таке просте перетворення не враховує того, що собаки досягають повноліття приблизно у 2 роки. Тому деякі люди вважать, що краще рахувати кожен з перших двох календарних років як 10,5 років для собаки, а потім рахувати кожен наступний календарний рік як 4 роки для собаки.\n",
        "\n",
        "Напишіть програму, яка конвертує календарні роки у \"собачі\", як було показано в попередньому абзаці. Переконайтесь, що ваша програма працює правильно, конвертуючи перші два календарні роки та всі подальші. Ваша програма також повинна виводити повідомлення про помилку, якщо користувач введе від'ємне число."
      ],
      "metadata": {
        "id": "b593txPwotgN"
      }
    },
    {
      "cell_type": "code",
      "execution_count": null,
      "source": [
        "years = float(input(\"enter human years: \"))\r\n",
        "if years <= 0:\r\n",
        "    print(\"error, invalid age\")\r\n",
        "elif years <= 2:\r\n",
        "    print(\"dog years: \" + str(years * 10.5))\r\n",
        "else:\r\n",
        "    print(\"dog years: \" + str((years - 2)*4 + 21))\r\n"
      ],
      "outputs": [],
      "metadata": {
        "id": "PA_E_H0Zosu0"
      }
    }
  ]
}