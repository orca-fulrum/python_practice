{
  "cells": [
    {
      "cell_type": "markdown",
      "source": [
        "# **Курс \"Програмування на мові Python\"**"
      ],
      "metadata": {
        "id": "FMqboNwO4rVs"
      }
    },
    {
      "cell_type": "markdown",
      "source": [
        "## **Практичне зайняття №7**\n",
        "\n",
        "### Тема: \"Робота з рядками. Глибокі копії об'єктів.\""
      ],
      "metadata": {
        "id": "A2T6MigL5Z06"
      }
    },
    {
      "cell_type": "markdown",
      "source": [
        "### **Завдання 1 (1 бал)**\r\n",
        "\r\n",
        "Створіть рядок формату, що дозволить отримати дані з кортежу format_tuple та вивести рядок:\r\n",
        "\r\n",
        "*Euler first used **pi** = **3.14** in his **1736** work **Mechanica**, and continued in his widely-read **1748** work Introductio in analysin infinitorum. In hexadecimal system, **pi** is **0x1.91eb851eb851fp+1**.*\r\n",
        "\r\n",
        "У рядку формату мають бути 7 заповнювачів (слово pi повторюється двічі, число 3.1415 також використовується двічі). У методі format() мають бути звернення безпосередньо до елементів кортежу.\r\n",
        "\r\n",
        "1. Для округлення значень скористайтесь функцією round().\r\n",
        "\r\n",
        "2. Щоб конвертувати число типу float у шістнадцяткову форму, скористайтесь методом float.hex().  Щоб отримати потрібне шістнадцяткове представлення, конвертуйте значення pi, округлене до сотих (https://python-reference.readthedocs.io/en/latest/docs/float/hex.html)."
      ],
      "metadata": {}
    },
    {
      "cell_type": "code",
      "execution_count": null,
      "source": [
        "format_tuple = (1736, 3.1415, 'pi', 1748, 'Mechanica')\r\n",
        "print(f\"Euler first used {format_tuple[2]} = {round(format_tuple[1], 2)} in his {format_tuple[0]} work {format_tuple[4]}, and continued in his widely-read {format_tuple[3]} work Introductio in analysin infinitorum. In hexadecimal system, {format_tuple[2]} is {float.hex(round(format_tuple[1], 2))}\")"
      ],
      "outputs": [],
      "metadata": {}
    },
    {
      "cell_type": "markdown",
      "source": [
        "### **Завдання 2 (2 бали)**\r\n",
        "\r\n",
        "*RGB (скорочено від англ. Red, Green, Blue — червоний, зелений, синій) — адитивна колірна модель, що описує спосіб синтезу кольору, за якою червоне, зелене та синє світло накладаються разом, змішуючись у різноманітні кольори. У моделі RGB колір кодується градаціями складових каналів (Red, Green, Blue). Кожен канал може набувати цілого значення на інтервалі [0; 255]. Наприклад, (255, 0, 0) - червоний колір, (0, 255, 0) - зелений, (255, 255, 0) - жовтий тощо. Візуалізувати кольори за кодами можна за посиланням:*\r\n",
        "\r\n",
        "*https://www.w3schools.com/colors/colors_rgb.asp*\r\n",
        "\r\n",
        "*Досить часто, особливо у веб-програмуванні, можна зустріти шістнадцяткове представлення кольорів. Щоб з шістнадцяткового представлення отримати десяткове, потрібно розбити 6 шістнадцяткових значень на 3 групи по 2 значення і конвертувати кожну пару шістнадцяткових значень у десяткові числа.*\r\n",
        "\r\n",
        "Написати програму, яка конвертуватиме шістнадцяткове представлення кольору у десятковий формат. Програма має приймати на вхід 6 символів (цифри 0-9 або літери A-F) та конвертувати їх у три цілі числа.\r\n",
        "\r\n",
        "1. Програма повинна перевіряти правильність введених користувачем значень. Користувач повинен ввести рівно 6 допустимих символів.\r\n",
        "\r\n",
        "2. Під час конвертації чисел з шістнадцяткової у десяткову систему числення *не можна* використовувати вбудованих функцій або функцій сторонніх бібліотек.\r\n",
        "\r\n",
        "Покроковий опис процесу конвертації подано за посиланням:\r\n",
        "\r\n",
        "https://www.developintelligence.com/blog/2017/02/rgb-to-hex-understanding-the-major-web-color-codes/"
      ],
      "metadata": {}
    },
    {
      "cell_type": "code",
      "execution_count": null,
      "source": [
        "import copy\r\n",
        "hexag = dict()\r\n",
        "sum1=0\r\n",
        "sum2=0\r\n",
        "sum3 = 0\r\n",
        "hexag = {\"A\" : 10, \"B\" : 11, \"C\" : 12, \"D\" : 13, \"E\" : 14, \"F\" : 15}\r\n",
        "list1 = []\r\n",
        "count = 0 \r\n",
        "x=0\r\n",
        "while count != 6:\r\n",
        "    a = str((input(\"Введіть символ: \")))\r\n",
        "    if a.isalpha() == True:\r\n",
        "        list1.append(a.upper())\r\n",
        "    elif a.isdigit() == True:\r\n",
        "        list1.append(a)\r\n",
        "    count+=1\r\n",
        "hex1 = [list1[0], list1[1]]\r\n",
        "hex2 = [list1[2], list1[3]]\r\n",
        "hex3 = [list1[4], list1[5]]\r\n",
        "\r\n",
        "if str(hex1[0]).isalpha() == True:\r\n",
        "    sum1+= hexag.get(hex1[0]) * 16\r\n",
        "else:\r\n",
        "    sum1+= int(hex1[0]) * 16\r\n",
        "if str(hex1[1]).isalpha() == True:\r\n",
        "    sum1+= hexag.get(hex1[1])\r\n",
        "else:\r\n",
        "    sum1+= int(hex1[1])\r\n",
        "\r\n",
        "if str(hex2[0]).isalpha() == True:\r\n",
        "    sum2+= hexag.get(hex2[0]) * 16\r\n",
        "else:\r\n",
        "    sum2+= int(hex2[0]) * 16\r\n",
        "if str(hex2[1]).isalpha() == True:\r\n",
        "    sum2+= hexag.get(hex2[1])\r\n",
        "else:\r\n",
        "    sum2+= int(hex2[1])\r\n",
        "\r\n",
        "if str(hex3[0]).isalpha() == True:\r\n",
        "    sum3+= hexag.get(hex2[0]) * 16\r\n",
        "else:\r\n",
        "    sum3+= int(hex3[0]) * 16\r\n",
        "if str(hex3[1]).isalpha() == True:\r\n",
        "    sum3+= hexag.get(hex3[1])\r\n",
        "else:\r\n",
        "    sum3+= int(hex3[1])\r\n",
        "print(sum1, sum2, sum3)\r\n"
      ],
      "outputs": [],
      "metadata": {}
    }
  ],
  "metadata": {
    "colab": {
      "collapsed_sections": [
        "LyWSBl0DOxJ8",
        "5qzvb1n_va3D",
        "fRXqCrBOmwAX"
      ],
      "name": "Practice_6.ipynb",
      "provenance": []
    },
    "kernelspec": {
      "display_name": "Python 3",
      "name": "python3"
    }
  },
  "nbformat": 4,
  "nbformat_minor": 2
}