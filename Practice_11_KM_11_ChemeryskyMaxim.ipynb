{
  "cells": [
    {
      "cell_type": "markdown",
      "source": [
        "# **Курс \"Програмування на мові Python\"**"
      ],
      "metadata": {
        "id": "FMqboNwO4rVs"
      }
    },
    {
      "cell_type": "markdown",
      "source": [
        "## **Практичні зайняття №11**\n",
        "\n",
        "### Тема: \"Рекурсивні функції\""
      ],
      "metadata": {
        "id": "A2T6MigL5Z06"
      }
    },
    {
      "cell_type": "markdown",
      "source": [
        "### **Завдання 1 (1 бал)**\n",
        "\n",
        "Реалізуйте функцію `cons(head, tail)`, що конструює новий список із довільного елемента `head` й іншого списку `tail`.\n",
        "\n",
        "Сама по собі функція `cons` не є рекурсивною, однак вона породжує рекурсивну структуру даних, представлену нижче. "
      ],
      "metadata": {
        "id": "cfCdgK2zXm7e"
      }
    },
    {
      "cell_type": "code",
      "execution_count": 5,
      "source": [
        "# ВАШ КОД ТУТ\r\n",
        "\r\n",
        "def cons(head, tail = []):\r\n",
        "    lst = []\r\n",
        "    lst.append(head)\r\n",
        "    for a in tail:\r\n",
        "        lst.append(a)\r\n",
        "    return lst\r\n",
        "\r\n",
        "\r\n",
        "# ПЕРЕВІРКА\r\n",
        "\r\n",
        "l = cons(3, \r\n",
        "        cons(2, \r\n",
        "            cons(1, [])))\r\n",
        "print(f'Result: {l}')\r\n",
        "\r\n",
        "assert l == [3, 2, 1], 'Failed test 1'\r\n",
        "assert cons(1) == [1], 'Failed test 2'\r\n",
        "print('All tests good!')"
      ],
      "outputs": [
        {
          "output_type": "stream",
          "name": "stdout",
          "text": [
            "Result: [3, 2, 1]\n",
            "All tests good!\n"
          ]
        }
      ],
      "metadata": {
        "id": "Bku8v9CjE_Qc"
      }
    },
    {
      "cell_type": "markdown",
      "source": [
        "Таким чином, легко уявити, що деякі традиційні структури даних цілком природньо обходяться за допомогою рекурсії.\n",
        "\n",
        "Напишіть тепер рекурсивну функцію `sum(lst)`, яка сумуватиме список `lst`."
      ],
      "metadata": {
        "id": "474jvMyn38ju"
      }
    },
    {
      "cell_type": "code",
      "execution_count": 6,
      "source": [
        "# ВАШ КОД ТУТ\r\n",
        "\r\n",
        "def sum(lst, count = 0):\r\n",
        "    if count < len(lst):\r\n",
        "        return lst[count] + sum(lst, count+1)\r\n",
        "    else:\r\n",
        "        return 0\r\n",
        "\r\n",
        "# ПЕРЕВІРКА\r\n",
        "\r\n",
        "print(sum(l))\r\n",
        "assert sum(l) == 6, 'Failed on sum'\r\n",
        "print('All tests good!')"
      ],
      "outputs": [
        {
          "output_type": "stream",
          "name": "stdout",
          "text": [
            "6\n",
            "All tests good!\n"
          ]
        }
      ],
      "metadata": {
        "id": "9x4n4ct53_Y6"
      }
    },
    {
      "cell_type": "markdown",
      "source": [
        "### **Завдання 2 (1 бал)**\n",
        "\n",
        "Реалізуйте рекурсивну функцію `rrange(begin, end, step)`, що повертає список елементів починаючи з `begin` і закінчуючи `end` невключно, із кроком `step`. Зверніть увагу, що крок може бути від'ємним. Якщо `begin` більше `end` при додатньому кроці (чи менше при від'ємному), або якщо крок нульовий, поверніть порожній список.\n",
        "\n",
        "Зверніть увагу на тести, приведені нижче."
      ],
      "metadata": {
        "id": "oqXwIz3iuPRe"
      }
    },
    {
      "cell_type": "code",
      "execution_count": 4,
      "source": [
        "# ВАШ КОД ТУТ\r\n",
        "\r\n",
        "def rrange(begin, end, step = 1):\r\n",
        "    if begin >= end and step > 0:\r\n",
        "        return []\r\n",
        "    if begin <= end and step < 0:\r\n",
        "        return []\r\n",
        "    return [begin] + rrange(begin + step, end, step)\r\n",
        "\r\n",
        "# ПЕРЕВІРКА\r\n",
        "\r\n",
        "x = rrange(1, 10)\r\n",
        "y = rrange(10, 1, -1)\r\n",
        "z = rrange(10, 1, 1)\r\n",
        "#print(x, y, z)\r\n",
        "\r\n",
        "assert x == list(range(1, 10)), 'Failed test for simple range'\r\n",
        "assert y == list(range(10, 1, -1)), 'Failed test for reverse range'\r\n",
        "assert z == list(range(10, 1, 1)), 'Failed test for empty range'\r\n",
        "print('All tests good!')"
      ],
      "outputs": [
        {
          "output_type": "stream",
          "name": "stdout",
          "text": [
            "All tests good!\n"
          ]
        }
      ],
      "metadata": {
        "id": "yiRr2CqMWxLA"
      }
    },
    {
      "cell_type": "markdown",
      "source": [
        "### **Завдання 3 (1 бал)**\n",
        "\n",
        "Реалізуйте [функцію Акермана](https://uk.wikipedia.org/wiki/%D0%A4%D1%83%D0%BD%D0%BA%D1%86%D1%96%D1%8F_%D0%90%D0%BA%D0%B5%D1%80%D0%BC%D0%B0%D0%BD%D0%B0), що має такий вигляд:\n",
        "$$ \n",
        "A(m,n) = \\begin{cases} \n",
        "n + 1, & \\quad m = 0; \\\\\n",
        "A(m-1, 1), & \\quad m>0, n=0; \\\\\n",
        "A(m-1, A(m, n-1)), & \\quad m > 0, n > 0.\n",
        "\\end{cases}\n",
        "$$\n",
        "\n",
        "_Зауваження 1_: Функція Акермана, незважаючи на оманливу простоту свого визначення, має велику обчислювальну складність. На власний страх і ризик, можете спробувати обчислити значення $A(4, 3)$. Не пробуйте робити це у цьому середовищі (і на повільних домашніх компьютерах)."
      ],
      "metadata": {}
    },
    {
      "cell_type": "code",
      "execution_count": 7,
      "source": [
        "# ВАШ КОД ТУТ\r\n",
        "\r\n",
        "def Akk(m, n):\r\n",
        "    if m == 0:\r\n",
        "        return n + 1\r\n",
        "    elif m > 0 and n == 0:\r\n",
        "        return Akk(m - 1, 1)\r\n",
        "    elif m > 0 and n > 0:\r\n",
        "        return Akk(m - 1, Akk(m, n - 1))\r\n",
        "    else:\r\n",
        "        return 0\r\n",
        "\r\n",
        "# ПЕРЕВІРКА\r\n",
        "\r\n",
        "test_pairs = list((m, n) for m in range(0,4) for n in range(0,5))\r\n",
        "results = [\r\n",
        "    1,  2,  3,  4, 5, \r\n",
        "    2,  3,  4,  5, 6, \r\n",
        "    3,  5,  7,  9, 11,\r\n",
        "    5, 13, 29, 61, 125\r\n",
        "]\r\n",
        "for (m, n), res in zip(test_pairs, results):\r\n",
        "    assert Akk(m, n) == res, f'Failed test for (m, n) pair ({m}, {n}): Akk({m}, {n}) = {res}'\r\n",
        "print('All tests good!')"
      ],
      "outputs": [
        {
          "output_type": "stream",
          "name": "stdout",
          "text": [
            "All tests good!\n"
          ]
        }
      ],
      "metadata": {}
    }
  ],
  "metadata": {
    "colab": {
      "collapsed_sections": [],
      "name": "Practice_12_13_KM_01_.ipynb",
      "provenance": []
    },
    "kernelspec": {
      "name": "python3",
      "display_name": "Python 3.9.1 64-bit (system)"
    },
    "language_info": {
      "name": "python",
      "version": "3.9.1",
      "mimetype": "text/x-python",
      "codemirror_mode": {
        "name": "ipython",
        "version": 3
      },
      "pygments_lexer": "ipython3",
      "nbconvert_exporter": "python",
      "file_extension": ".py"
    },
    "interpreter": {
      "hash": "e562751aa04159bcd3187d0bfb3bc31715c68a6d179aabc4b422857b57a286f2"
    }
  },
  "nbformat": 4,
  "nbformat_minor": 2
}