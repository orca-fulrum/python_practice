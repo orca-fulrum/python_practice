{
  "cells": [
    {
      "cell_type": "markdown",
      "source": [
        "# **Курс \"Програмування на мові Python\"**"
      ],
      "metadata": {
        "id": "FMqboNwO4rVs"
      }
    },
    {
      "cell_type": "markdown",
      "source": [
        "## **Практичне зайняття №12**\n",
        "\n",
        "### Тема: \"Рекурсивні структури даних\""
      ],
      "metadata": {
        "id": "A2T6MigL5Z06"
      }
    },
    {
      "cell_type": "markdown",
      "source": [
        "### **Завдання 1 (3 бали)**\n",
        "\n",
        "Нехай задано структуру даних, що представляє файли на диску, наступного вигляду:\n",
        "- файли представлені у вигляді рядків зі своїм іменем;\n",
        "- папки представлені у вигляді пари `(name, subnodes)`, де `name` — це ім'я папки, а `subnodes` — список з файлів і/або папок, що містяться у ній.\n",
        "\n",
        "Приклад такої структури наведено нижче у змінній `dirs`.\n",
        "\n",
        "Реалізуйте рекурсивну функцію `search(dirs, filename)` для пошуку усіх файлів із іменем `filename` у структурі `dirs`. Ця функція має повертати список, що містить повні шляхи до файлу у заданій структурі. Наприклад, `search(dirs, 'file2')` для наведеної нижче структури має повертати список `['/folder1/folder2/file2']`.\n",
        "\n",
        "_Зауваження 1_: Ви можете, за необхідності, додати до сигнатури функції додаткові параметри, за умови, що вони матимуть значення за замовчуванням. Однак, я стверджую, що таку функцію завжди можна реалізувати використовуючи лише задану кількість параметрів, незалежно від того, чи будете ви використовувати рекурсію з акумулятором чи без.\n",
        "\n",
        "_Зауваження 2_: Згадайте, що рекурсія буває не тільки безпосередньою, але й опосередкованою, коли послідовність функцій викликає одна одну: `f() -> g() -> ... -> f()`\n",
        "\n",
        "_Зауваження 3_: Пам'ятайте, що Ви завжди можете використовувати функції `map` та `reduce`. Крім того, ви можете захотіти використати інші функції з модулів `functools` та `itertools`, наприклад `itertools.chain()`. Завдання, однак, можна виконати і без них (хоч це і не дуже зручно).\n",
        "\n",
        "_Зауваження 4_: На мій смак, версія з акумулятором є більш елегантною, але дещо складнішою в реалізації. Спробуйте реалізувати обидві версії.\n",
        "\n",
        "![](https://media.giphy.com/media/enCWEo0vG25Ow/giphy.gif) "
      ],
      "metadata": {
        "id": "8bFJLl9Y4PYz"
      }
    },
    {
      "cell_type": "code",
      "execution_count": null,
      "source": [
        "dirs = [\r\n",
        "    ( 'folder1',\r\n",
        "        [\r\n",
        "            'file1',\r\n",
        "            ( 'folder2', \r\n",
        "                [\r\n",
        "                    'file2',\r\n",
        "                    'file3'\r\n",
        "                ] \r\n",
        "            ),\r\n",
        "            ( 'folder3', \r\n",
        "                [\r\n",
        "                    'file3', \r\n",
        "                    'file4',\r\n",
        "                    ('folder4', ['file3'])\r\n",
        "                ] \r\n",
        "            ),\r\n",
        "            'file5'\r\n",
        "        ]\r\n",
        "    )\r\n",
        "]\r\n",
        "\r\n",
        "# ВАШ КОД ТУТ\r\n",
        "res = []\r\n",
        "def search(dirs, filename: str):\r\n",
        "    global res\r\n",
        "    for a in dirs:\r\n",
        "        if isinstance(a, str) and a == filename:\r\n",
        "            return(res.append(\"/\" + a))\r\n",
        "        elif isinstance(a, tuple) == True and a[0] != filename:\r\n",
        "            res.append(\"/\" + a[0])\r\n",
        "            search(a, filename)\r\n",
        "        elif isinstance(a, tuple) == True and a[0] == filename:\r\n",
        "            return(res.append(\"/\" + a[0]))\r\n",
        "        elif isinstance(a, list):\r\n",
        "            search(a, filename)\r\n",
        "        \r\n",
        "    if filename == \"folder1\":\r\n",
        "        res = []\r\n",
        "    return res\r\n",
        "print(search(dirs, \"file5\"))\r\n",
        "# ПЕРЕВІРКА\r\n",
        "\r\n",
        "print(search(dirs, 'file1'))\r\n",
        "print(search(dirs, 'file2'))\r\n",
        "print(search(dirs, 'file3'))\r\n",
        "print(search(dirs, 'file4'))\r\n",
        "print(search(dirs, 'file5'))\r\n",
        "print(search(dirs, 'file6'))\r\n",
        "print(search(dirs, 'folder1'))\r\n",
        "\r\n",
        "assert search(dirs, 'file1') == ['/folder1/file1'], 'Failed test for file1'\r\n",
        "assert search(dirs, 'file2') == ['/folder1//folder2/file2'], 'Failed test for file2'\r\n",
        "assert search(dirs, 'file3') == ['/folder1//folder2/file3', '/folder1//folder3/file3', '/folder1//folder3//folder4/file3'], 'Failed test for file3'\r\n",
        "assert search(dirs, 'file4') == ['/folder1//folder3/file4'], 'Failed test for file4'\r\n",
        "assert search(dirs, 'file5') == ['/folder1/file5'], 'Failed test for file5'\r\n",
        "assert search(dirs, 'file6') == [], 'Failed test for file6'\r\n",
        "assert search(dirs, 'folder1') == [], 'Failed test for folder1'\r\n",
        "print('All tests good!')"
      ],
      "outputs": [],
      "metadata": {
        "id": "p4JxkFju4W0e"
      }
    }
  ],
  "metadata": {
    "colab": {
      "collapsed_sections": [],
      "name": "Practice_12_13_KM_01_.ipynb",
      "provenance": []
    },
    "kernelspec": {
      "display_name": "Python 3",
      "name": "python3"
    }
  },
  "nbformat": 4,
  "nbformat_minor": 2
}