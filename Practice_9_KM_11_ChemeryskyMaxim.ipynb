{
  "cells": [
    {
      "cell_type": "markdown",
      "source": [
        "# **Курс \"Програмування на мові Python\"**"
      ],
      "metadata": {
        "id": "FMqboNwO4rVs"
      }
    },
    {
      "cell_type": "markdown",
      "source": [
        "## **Практичне зайняття №9**\n",
        "\n",
        "### Тема: \"Робота з функціями. Локальні та глобальні змінні\""
      ],
      "metadata": {
        "id": "A2T6MigL5Z06"
      }
    },
    {
      "cell_type": "markdown",
      "source": [
        "### **Завдання 1 (3 бали)**\n",
        "\n",
        "**Підрахувати визначник матриці, використовуючи правило перестановок.**\n",
        "\n",
        "Функція random_matrix() призначена для створення квадратної матриці випадкових чисел. Її змінювати непотрібно.\n",
        "\n",
        "Приклад використання методу permutations() для створення списку перестановок також подається у комірці з кодом.\n",
        "\n",
        "1) Створити 3 функції: функцію створення списку перестановок, функцію підрахунку добутків та функцію підрахунку загальної суми.\n",
        "\n",
        "2) Кожна функція має супроводжуватись рядком документації, що буде коротко описувати її призначення.\n",
        "\n",
        "3) Розмірність квадратної матриці має вводитись користувачем з клавіатури. Підрахунки виконувати лише в тому разі, якщо користувач введе ціле додатне число.\n",
        "\n",
        "4) Загальний результат повинен підраховуватись за допомогою композиції функцій.\n",
        "\n",
        "За бажанням можна перевірити правильність роботи програми за допомогою функції np.linalg.det(a)."
      ],
      "metadata": {
        "id": "cfCdgK2zXm7e"
      }
    },
    {
      "cell_type": "code",
      "execution_count": null,
      "source": [
        "import numpy as np\r\n",
        "import itertools\r\n",
        "\r\n",
        "def random_matrix(dim):\r\n",
        "    \"\"\"\r\n",
        "    The function generates dim x dim array of integers\r\n",
        "    between 0 and 10.\r\n",
        "    \"\"\"\r\n",
        "    matrix = np.random.randint(10, size = (dim, dim))\r\n",
        "    return matrix\r\n",
        "\r\n",
        "#Example of using permutations() method\r\n",
        "t = list(itertools.permutations('123', 3))\r\n",
        "\r\n",
        "dim = int(input())\r\n",
        "mat = random_matrix(dim)\r\n",
        "print(mat)\r\n",
        "def per():\r\n",
        "    permut = list(itertools.permutations(mat, dim))\r\n",
        "    return permut\r\n",
        "    ##створення списку всіх можливих перестановок\r\n",
        "swap = per()\r\n",
        "\r\n",
        "print(swap)\r\n",
        "print(swap[0][0][0])\r\n",
        "\r\n",
        "for i in swap[0]:\r\n",
        "    for a in i:\r\n",
        "        "
      ],
      "outputs": [],
      "metadata": {
        "id": "ifNX2M7LXm7f"
      }
    }
  ],
  "metadata": {
    "colab": {
      "collapsed_sections": [],
      "name": "Practice_7_KM-01_.ipynb",
      "provenance": []
    },
    "kernelspec": {
      "display_name": "Python 3",
      "name": "python3"
    }
  },
  "nbformat": 4,
  "nbformat_minor": 2
}